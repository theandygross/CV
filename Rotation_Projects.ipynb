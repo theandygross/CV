{
 "cells": [
  {
   "cell_type": "markdown",
   "metadata": {},
   "source": [
    "# Rotation Projects"
   ]
  },
  {
   "cell_type": "markdown",
   "metadata": {},
   "source": [
    "[Fall- Kay](#Fall-2010--Kay-Lab), [Winter- Hoffmann](#Winter-2011--UCSD-Signaling-Systems-Lab), [Spring- Rifkin](#Spring-2011--Rifkin-Lab), [Summer- Ideker](#Summer-2011--Ideker-Lab)"
   ]
  },
  {
   "cell_type": "markdown",
   "metadata": {},
   "source": [
    "## Fall 2010- Kay Lab \n",
    "Analyzed circadian timecourse microarray data using Singular Value Decomposition. Supervised by [Colleen Doherty](http://biochem.ncsu.edu/faculty/doherty/dohertypage.php) and [Steve Kay](https://dornsife.usc.edu/labs/kay-laboratory/steve-kay/).\n",
    "* [Research Proposal](https://drive.google.com/open?id=0B9HlZKYyVNmQYVF1QV9RQ2F2REk&authuser=0)\n",
    "* [Rotation Report](https://drive.google.com/open?id=0B9HlZKYyVNmQN01zdFFGcEhuQUk&authuser=0): \"Development of a Signal Processing Pipeline to Uncover Dynamic Expression Patterns in Arabidopsis Time-course Data\"\n",
    "\n",
    "<img src=\"https://drive.google.com/uc?id=0B9HlZKYyVNmQb2VzUThjUHlZT3M\" width=\"300\"></img> \n",
    "Most significant eigengenes for the Mode-1 Higher Order Singular Value Decomposition across circadian time-series microarray datasets in different lighting conditions."
   ]
  },
  {
   "cell_type": "markdown",
   "metadata": {},
   "source": [
    "## Winter 2011- UCSD Signaling Systems Lab"
   ]
  },
  {
   "cell_type": "markdown",
   "metadata": {},
   "source": [
    "Preformed analysis of dynamic models of stimulus-specific NF-κB regulation. Supervised by [Marcelo Behar](http://www.signalingsystems.ucla.edu/marcelo-behar/) and [Alex Hoffmann](http://www.signalingsystems.ucla.edu/alexander-hoffmann/). \n",
    "* [Research Proposal](https://drive.google.com/open?id=0B9HlZKYyVNmQdVoxT1hlQThoNXc&authuser=0) \n",
    "* [Rotation Report](https://drive.google.com/open?id=0B9HlZKYyVNmQS2hyX05ERlNuaEE&authuser=0) \n",
    "\n",
    "<img src=\"https://drive.google.com/uc?id=0B9HlZKYyVNmQTjQzRUlKVU9vSm8\" width=\"500\"></img> \n",
    "\n",
    "Analysis of the first three principal components for NF-kB responsive RNA synthesis of IkB-a. (top) Unmodified trajectories for the parameter group across all three positions. (left) Three dimensional principal component plot for inputs across the different wild-type parameter multipliers for the group. (right) Parallel coordinates representation of the first three principal components."
   ]
  },
  {
   "cell_type": "markdown",
   "metadata": {},
   "source": [
    "# Spring 2011- Rifkin Lab"
   ]
  },
  {
   "cell_type": "markdown",
   "metadata": {},
   "source": [
    "Developed stochastic mathematical models to gain insight into the phenomina of noise and threshold robustness in biological signaling and analyzed chromatin immunoprecipitation experiments to find empirical examples of this phenomina. Supervised by [Scott Rifkin](http://labs.biology.ucsd.edu/rifkin/index.html). \n",
    "\n",
    "Project still being pursued by Rifkin Lab.\n",
    "<div hidden=True>\n",
    "* [Research Proposal](https://drive.google.com/open?id=0B9HlZKYyVNmQY3VBS3g2SmJzRm8&authuser=0) \n",
    "* [Rotation Report](https://drive.google.com/open?id=0B9HlZKYyVNmQYmZJWnBFM1BaekU&authuser=0) \n",
    "\n",
    "<img src=\"https://drive.google.com/uc?id=0B9HlZKYyVNmQa3BfM3NfVDhkWFk\" width=\"800\"></img> \n",
    "Show here is a trait that exhibits high correlation of binding with expression.  (mid-left) Plot showing the range of binding z-scores for each strain.  (mid-right)  Plots of the normalized binding values across the trait for each strain (each strain is a separate line), the three plots show, from left to right, the range binding trait with 0, 50, and 500 bp window, respectively.  (bottom) Plots of area under the binding curve verses gene expression for the upstream genes on the Crick (left) and Watson (right) strands, with linear, step function, and hill function fits superimposed.  \n",
    "</div>"
   ]
  },
  {
   "cell_type": "markdown",
   "metadata": {},
   "source": [
    "## Summer 2011- Ideker Lab"
   ]
  },
  {
   "cell_type": "markdown",
   "metadata": {},
   "source": [
    "Development of methods for identifying recurrently mutated network modules. Supervised by [Trey Ideker](http://healthsciences.ucsd.edu/som/medicine/research/labs/ideker/people/Pages/trey-ideker.aspx) and [Janusz Dutkowski](http://data4cure.com/about.html).\n",
    "\n",
    "<img src=\"https://drive.google.com/uc?id=0B9HlZKYyVNmQMjNwd3VCX0hfdWc\" width=\"800\"></img> \n",
    "\n",
    "Map of network modules and associations integrating multiple data layers. Large orange nodes are modules enriched for somatic mutations while large blue nodes are modules of genes highly over-expressed in HGS-OvCA."
   ]
  },
  {
   "cell_type": "markdown",
   "metadata": {},
   "source": [
    "<h2 id=\"Fall-2010--Kay-Lab\"><span>Fall 2010- Kay Lab</span></h2>\n",
    "\n",
    "<p>Analyzed circadian timecourse microarray data using Singular Value Decomposition. Supervised by&nbsp;<a href=\"http://biochem.ncsu.edu/faculty/doherty/dohertypage.php\" target=\"_blank\">Colleen Doherty</a>&nbsp;and&nbsp;<a href=\"https://dornsife.usc.edu/labs/kay-laboratory/steve-kay/\" target=\"_blank\">Steve Kay</a>.</p>\n",
    "\n",
    "<ul><li><a href=\"https://drive.google.com/open?id=0B9HlZKYyVNmQYVF1QV9RQ2F2REk&amp;authuser=0\" target=\"_blank\">Research Proposal</a></li><li><a href=\"https://drive.google.com/open?id=0B9HlZKYyVNmQN01zdFFGcEhuQUk&amp;authuser=0\" target=\"_blank\">Rotation Report</a>: \"Development of a Signal Processing Pipeline to Uncover Dynamic Expression Patterns in Arabidopsis Time-course Data\"</li></ul><p><img src=\"https://drive.google.com/uc?id=0B9HlZKYyVNmQb2VzUThjUHlZT3M\" width=\"300\"></p>\n",
    "\n",
    "<p>Most significant eigengenes for the Mode-1 Higher Order Singular Value Decomposition across circadian time-series microarray datasets in different lighting conditions.</p>\n",
    "\n",
    "<h2 id=\"Winter-2011--UCSD-Signaling-Systems-Lab\"><span>Winter 2011- UCSD Signaling Systems Lab</span></h2>\n",
    "<p>Preformed analysis of dynamic models of stimulus-specific NF-κB regulation. Supervised by&nbsp;<a href=\"http://www.signalingsystems.ucla.edu/marcelo-behar/\" target=\"_blank\">Marcelo Behar</a>and&nbsp;<a href=\"http://www.signalingsystems.ucla.edu/alexander-hoffmann/\" target=\"_blank\">Alex Hoffmann</a>.</p>\n",
    "\n",
    "<ul><li><a href=\"https://drive.google.com/open?id=0B9HlZKYyVNmQdVoxT1hlQThoNXc&amp;authuser=0\" target=\"_blank\">Research Proposal</a></li><li><a href=\"https://drive.google.com/open?id=0B9HlZKYyVNmQS2hyX05ERlNuaEE&amp;authuser=0\" target=\"_blank\">Rotation Report</a></li></ul>\n",
    "\n",
    "<p><img src=\"https://drive.google.com/uc?id=0B9HlZKYyVNmQTjQzRUlKVU9vSm8\" width=\"500\"></p><p>Analysis of the first three principal components for NF-kB responsive RNA synthesis of IkB-a. (top) Unmodified trajectories for the parameter group across all three positions. (left) Three dimensional principal component plot for inputs across the different wild-type parameter multipliers for the group. (right) Parallel coordinates representation of the first three principal components.</p>\n",
    "\n",
    "<h2 id=\"Spring-2011--Rifkin-Lab\"><span>Spring 2011- Rifkin Lab</span></h2>\n",
    "<p>Developed stochastic mathematical models to gain insight into the phenomina of noise and threshold robustness in biological signaling and analyzed chromatin immunoprecipitation experiments to find empirical examples of this phenomina. Supervised by&nbsp;<a href=\"http://labs.biology.ucsd.edu/rifkin/index.html\" target=\"_blank\">Scott Rifkin</a>.</p><p>Project still being pursued by Rifkin Lab.</p>\n",
    "\n",
    "<h2 id=\"Summer-2011--Ideker-Lab\">Summer 2011- Ideker Lab</h2>\n",
    "<p>Development of methods for identifying recurrently mutated network modules. Supervised by&nbsp;<a href=\"http://healthsciences.ucsd.edu/som/medicine/research/labs/ideker/people/Pages/trey-ideker.aspx\" target=\"_blank\">Trey Ideker</a>&nbsp;and<a href=\"http://data4cure.com/about.html\" target=\"_blank\">Janusz Dutkowski</a>.</p>\n",
    "\n",
    "<p><img src=\"https://drive.google.com/uc?id=0B9HlZKYyVNmQMjNwd3VCX0hfdWc\" width=\"800\"></p><p>Map of network modules and associations integrating multiple data layers. Large orange nodes are modules enriched for somatic mutations while large blue nodes are modules of genes highly over-expressed in HGS-OvCA.</p>"
   ]
  }
 ],
 "metadata": {
  "kernelspec": {
   "display_name": "Python 2",
   "language": "python",
   "name": "python2"
  },
  "language_info": {
   "codemirror_mode": {
    "name": "ipython",
    "version": 2
   },
   "file_extension": ".py",
   "mimetype": "text/x-python",
   "name": "python",
   "nbconvert_exporter": "python",
   "pygments_lexer": "ipython2",
   "version": "2.7.9"
  }
 },
 "nbformat": 4,
 "nbformat_minor": 0
}
