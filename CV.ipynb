{
 "cells": [
  {
   "cell_type": "markdown",
   "metadata": {},
   "source": [
    "# Education"
   ]
  },
  {
   "cell_type": "markdown",
   "metadata": {},
   "source": [
    "#### University of California San Diego (UCSD) \n",
    "* 2010-2015 (expected) \n",
    "* Ph.D. in Bioinformatics and Systems Biology with Dr. Trey Ideker \n",
    "\n",
    "#### University of Texas at Austin \n",
    "* 2006-2010 \n",
    "* B.S. in Biomedical Engineering with Honors \n",
    "* Certificate in Statistics and Scientific Computing"
   ]
  },
  {
   "cell_type": "markdown",
   "metadata": {},
   "source": [
    "# Awards, Honors, Activities"
   ]
  },
  {
   "cell_type": "markdown",
   "metadata": {},
   "source": [
    "#### University of California- San Diego\n",
    "* <b>2014</b> Best Talk, UCSD Bioinformatics and System Biology Research Expo  \n",
    "* <b>2012</b> Founding member and organizer of UCSD Scientific Python User Group ([link](https://github.com/ucsd-scientific-python/user-group))\n",
    "* <b>2011</b> Teaching assistant for bioinformatics senior design course"
   ]
  },
  {
   "cell_type": "markdown",
   "metadata": {},
   "source": [
    "#### University of Texas at Austin\n",
    "* President Larry R Faulkner Scholarship (11 awarded per year, campus wide) \n",
    "* <b>2010</b> First undergraduate student awarded a certificate in statistics and scientific computation\n",
    "* <b>2009</b> University of Texas at Austin Co-operative Society Undergraduate Research  Fellowship recipient for the project “Visual Correlation Tools for Large-Scale Molecular Biological Data”\n",
    "* <b>2009</b> Division of Statistics and Scientific Computation Student Travel Award \n",
    "* <b>2008-2009</b> Distinguished Scholar</b> \n",
    "* <b>2008</b> Sigma-Aldrich Top Intern Poster Award (company wide, over 20 interns) \n",
    "* <b>2008</b> University of Texas at Austin Co-operative Society Undergraduate Research Fellowship for the project “Determination of Phylogenetic Distinctioons in Gene Sequences Using Singular Value Decomposition”\n",
    "* <b>2008</b> Undergraduate Student Travel Award, Biomedical Engineering Society (BMES) Annual Meeting\n",
    "* <b>All semesters</b> University Honors"
   ]
  },
  {
   "cell_type": "markdown",
   "metadata": {},
   "source": [
    "# Presentations"
   ]
  },
  {
   "cell_type": "markdown",
   "metadata": {},
   "source": [
    "## Oral Presentations"
   ]
  },
  {
   "cell_type": "markdown",
   "metadata": {},
   "source": [
    "<b>A.M. Gross</b> and T. Ideker. \"Analysis of Paired Tumor and Normal Phenotype Data in TCGA,\" The Cancer Genome Atlas' 4th Annual Scientific Symposium (Bethesda, MD). May 11-12, 2015. \n",
    "\n",
    "<b>A.M. Gross</b>, P.A. Jaeger, J.F. Kreisberg, K. Licon, K.L. Jepsen, M. Khosroheidari, B.M. Morsey, H. Shen, K. Flagg, D. Chen, K. Zhang, H.S. Fox, T. Ideker. \"An Epigenomic Study of HIV and Aging,\" 1st Annual California Stem Cell Agency (CIRM) Retreat (Standford University). May 1, 2015.\n",
    "\n",
    "<b>A.M. Gross</b>,  R.K. Orosco, J.P. Shen, A.M. Egloff, H. Carter, M. Hofree, M. Choueiri, C.S. Coffey, S.M. Lippman, D.N. Hayes, E.E. Cohen, J.R. Grandis, Q.T. Nguyen and T. Ideker. \"Multi-Omics Classification of Head and Neck Cancer Ties TP53 Mutation To 3p Loss,\" 3rd Annual Scientific Symposium (Bethesda, MD). May 12-13, 2014."
   ]
  },
  {
   "cell_type": "markdown",
   "metadata": {},
   "source": [
    "## Posters\n",
    "<b>A.M. Gross</b>,  R.K. Orosco, J.P. Shen, A.M. Egloff, H. Carter, M. Hofree, M. Choueiri, C.S. Coffey, S.M. Lippman, D.N. Hayes, E.E. Cohen, J.R. Grandis, Q.T. Nguyen and T. Ideker. \"Multi-Omics Classification of Head and Neck Cancer Ties TP53 Mutation To 3p Loss,\" American Association for Cancer Research (AACR) Annual Meeting (San Diego, CA). April 5-9, 2014.\n",
    "\n",
    "<b>A.M. Gross</b>, J. Dutkowski, T. Ideker. \"Elucidation of Pathways in Cancer Associated with Survival,\" 2nd Annual Scientific Symposium (Crystal City, VA). November 27-28, 2012.\n",
    "\n",
    "<b>A.M. Gross</b>, Y. Livnat, C.R. Johnson and O. Alter, “A Visual Correlation Tool for Large Scale Molecular Biological Data,” Rao Conference at the Interface \n",
    "Between Statistics and the Sciences (Hyderabad, India, December 30, 2009 – January 2, \n",
    "2010).\n",
    "\n",
    "<b>A.M. Gross</b>, C. Muralidhara, R.R. Gutell and O. Alter, “Singular Value Decomposition\n",
    "Analysis of 5S and 23S rRNA Sequences from the Three Domains,” 2008 BMES Annual\n",
    "Fall Meeting (Saint Louis, Missouri, October 2–4, 2008). "
   ]
  },
  {
   "cell_type": "markdown",
   "metadata": {},
   "source": [
    "# Peer-Reviewed Publications"
   ]
  },
  {
   "cell_type": "markdown",
   "metadata": {},
   "source": [
    "#### In preparation  \n",
    "\n",
    "<b>A.M. Gross</b> and T. Ideker. Analysis of paired tumor and normal molecular phenotypes in TCGA.  \n",
    "\n",
    "R. Srivas, J.P. Shen, J.F. Li, K. Licon, Z.Z. Wang, A. Bojoquez-Gomez, L. Xu, <b>A. Gross</b>, G. Bean, R. Sobol, T. Ideker. High-throughput synthetic lethal interaction screening in model organisms as a strategy for the identification of novel therapeutic targets in cancer. \n",
    "\n",
    "J.P. Shen, R. Srivas, J.F. Li, <b>A. Gross</b>, E. Jaehnig, S. Sun, A. Bojorquez-Gomez, K. Licon, V. Sivaganesh, J.L. Xu, K. Klepper, D. Pekin, H. Yeerna, R. Kolodner, H. van Attikum, R. Sobol, T. Ideker. RAD17 is synthetically lethal with checkpoint kinase inhibition."
   ]
  },
  {
   "cell_type": "markdown",
   "metadata": {},
   "source": [
    "#### In purgatory  \n",
    "<b>A.M. Gross</b>, P.A. Jaeger, J.F. Kreisberg, K. Licon, K.L. Jepsen, M. Khosroheidari, B.M. Morsey, H. Shen, K. Flagg, D. Chen, K. Zhang, H.S. Fox, T. Ideker. Methylome-wide analysis of chronic HIV infection reveals five-year increase in biological age and epigenetic targeting of HLA. In review at Molecular Cell."
   ]
  },
  {
   "cell_type": "markdown",
   "metadata": {},
   "source": [
    "#### In press \n",
    "<b>A. M. Gross</b> and E. E. Cohen. Towards a Personalized Treatment of Head and Neck Cancer. American Society of Clinical Oncology Educational Book, 35 (2015); In Press. (Review/perspective article)\n",
    "\n",
    "M. B. Choueiri, J. P. Shen, <b>A. Gross</b>, J. Huang, T. Ideker and P. Fanta. ERCC1 and TS expression as prognostic and predictive biomarkers in metastatic colon cancer. <b>PLoS One</b> 2015; In Press. \n",
    "\n"
   ]
  },
  {
   "cell_type": "markdown",
   "metadata": {},
   "source": [
    "#### In print\n",
    "\n",
    "Raju, S.C., Hauff, S.J., Lemieux, A.J., Orosco, R.K., <b>Gross, A.M.</b>, Nguyen, L.T., Savariar, E., Moss, W., Whitney, M., Cohen, E.E., et al. (2015). Combined TP53 mutation/3p loss correlates with decreased radiosensitivity and increased matrix-metalloproteinase activity in head and neck carcinoma. Oral Oncology 51, 470–475.\n",
    "\n",
    "Hauff, S.J., Raju, S.C., Orosco, R.K., <b>Gross, A.M.</b>, Diaz-Perez, J.A., Savariar, E., Nashi, N., Hasselman, J., Whitney, M., Myers, J.N., et al. (2014). Matrix-Metalloproteinases in Head and Neck Carcinoma-Cancer Genome Atlas Analysis and Fluorescence Imaging in Mice. Otolaryngology -- Head and Neck Surgery.\n",
    "\n",
    "<b>Gross, A.M.</b>, Orosco, R.K., Shen, J.P., Egloff, A.M., Carter, H., Hofree, M., Choueiri, M., Coffey, C.S., Lippman, S.M., Hayes, D.N., Cohen, E.E., Grandis, J.R., Nguyen, Q.T. and Ideker, T. (2014). Multi-tiered genomic analysis of head and neck cancer ties TP53 mutation to 3p loss. Nature Genetics 46, 939–943.\n",
    "\n",
    "\n",
    "Hofree, M., Shen, J.P., Carter, H., <b>Gross, A.</b>, and Ideker, T. (2013). Network-based stratification of tumor mutations. Nature Methods 10, 1108–1115.\n",
    "\n",
    "Wanda, P.A., Fine, M.S., Weeks, H.M., <b>Gross, A.M.</b>, Macy, J.L., and Thoroughman, K.A. (2013). Brevity of haptic force perturbations induces heightened adaptive sensitivity. Exp Brain Res 226, 407–420.\n",
    "\n",
    "Gendron, J.M., Pruneda-Paz, J.L., Doherty, C.J., <b>Gross, A.M.</b>, Kang, S.E., and Kay, S.A. (2012). Arabidopsis circadian clock protein, TOC1, is a DNA-binding transcription factor. Proceedings of the National Academy of Sciences 109, 3167–3172.\n",
    "\n",
    "\n",
    "Muralidhara, C., <b>Gross, A.M.</b>, Gutell, R.R., and Alter, O. (2011). Tensor Decomposition Reveals Concurrent Evolutionary Convergences and Divergences and Correlations with Structural Motifs in Ribosomal RNA. PLoS ONE 6, e18768."
   ]
  },
  {
   "cell_type": "markdown",
   "metadata": {},
   "source": [
    "# Skills \n",
    "\n",
    "#### Compute enviroment\n",
    "I have extensive experience working in a <b>UNIX</b> enviroment as well as in a shared cluster computing setting. \n",
    "\n",
    "#### In-memory data analysis. \n",
    "I mainly do analysis in <b>Python</b> with heavy use of the <b>Pandas</b> library and library calls to <b>R</b>. My development enviroment uses the Pycharm IDE with anaysis in <b>IPython Notebooks</b>. \n",
    "\n",
    "In the past I have also worked with <b>Matlab</b> and <b>Mathematica</b>.\n",
    "#### Large data work flows.\n",
    "For compute intensive tasks, I use <b>Python</b> scripting to generate <b>bash</b> scripts which I run on a compute cluster using the <b>SGE</b> scheduling library.  \n",
    "\n",
    "#### Web development. \n",
    "I am have moderate knowledge of <b>HTML</b>, <b>javascipt</b>, and <b>CSS</b>.  I have past (aka outdated) experience developing web applications with <b>Perl</b> and <b>MySQL</b> with some limited exposure to modern frameworks.\n",
    "#### Statstics.\n",
    "I have a working knowledge of study design principals, multivariate regression, survival analysis, clustering, dimensionality reduction, supervised learning, and (most importantanly) a healthy scientific skepticism. \n",
    "\n",
    "#### Data visualization \n",
    "I heavily use the <b>Matplotlib</b> and <b>Seaborn</b> plotting libraries with extensive custom extensions. I am also proficient with <b>Adobe Illustrator</b>. I have past experience using the <b>Processing</b> language."
   ]
  }
 ],
 "metadata": {
  "kernelspec": {
   "display_name": "Python 2",
   "language": "python",
   "name": "python2"
  },
  "language_info": {
   "codemirror_mode": {
    "name": "ipython",
    "version": 2
   },
   "file_extension": ".py",
   "mimetype": "text/x-python",
   "name": "python",
   "nbconvert_exporter": "python",
   "pygments_lexer": "ipython2",
   "version": "2.7.9"
  }
 },
 "nbformat": 4,
 "nbformat_minor": 0
}
