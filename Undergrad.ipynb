{
 "cells": [
  {
   "cell_type": "markdown",
   "metadata": {},
   "source": [
    "# Pre-Graduate Work"
   ]
  },
  {
   "cell_type": "markdown",
   "metadata": {},
   "source": [
    "## Summer 2007- Laboratory of Neural Computation and Motor Behavior\n",
    "\n",
    "<img src='http://thorlab.seas.wustl.edu/images/logo.jpg'></img>"
   ]
  },
  {
   "cell_type": "markdown",
   "metadata": {},
   "source": [
    "* Recruited and tested subjects for motor reaching task. \n",
    "* Analyzed resulting time-series data using Matlab. \n",
    "* Resulted in co-authorship of [publication in Experimental Brain Research](http://www.ncbi.nlm.nih.gov/pubmed/23468159).\n",
    "* Supervised by [Kurt Thoroughman](http://thorlab.seas.wustl.edu/people/)"
   ]
  },
  {
   "cell_type": "markdown",
   "metadata": {},
   "source": [
    "## Summer 2008- Sigma Aldrich Intership\n",
    "<img src='http://2013.igem.org/wiki/images/3/39/Sigmaaldrich-logo(transparant).png' width='200'></img>"
   ]
  },
  {
   "cell_type": "markdown",
   "metadata": {},
   "source": [
    "* Developed patent drug database and web-based search tools \n",
    "* Integrated drug patent data with additional information including gene, pathway, protein structure and pharmacological data \n",
    "* Incorperated numerous of features including detailed drug specific popups, sub-structure search, molecular visualization and sales analysis \n",
    "* Work won __best project__ award for 2008 summer intern class \n",
    "* Supervised by [Fei Zhong](https://www.linkedin.com/pub/fei-zhong/5/80a/394) and [Tao Zhao](https://www.linkedin.com/pub/tao-zhao/14/250/b46)"
   ]
  },
  {
   "cell_type": "markdown",
   "metadata": {},
   "source": [
    "## Fall 2007- Summer 2010- Genomic Signal Processing Lab \n",
    "<img src='http://upload.wikimedia.org/wikipedia/commons/2/2f/Large_university-of-texas_seal_rgb(199-91-18).png' width='150'></img>"
   ]
  },
  {
   "cell_type": "markdown",
   "metadata": {},
   "source": [
    "#### 2007-2009\n",
    "* Employed tensor decompositions to study ribosomal RNA sequence alignments across diverse species \n",
    "* Preformed data-analysis, code quality control, and developed figures in Mathematica (code available [here](http://www.alterlab.org/rRNA/code/16S_rRNA.pdf))\n",
    "* Resulted in second authorship of [publication in PLoS One](http://www.ncbi.nlm.nih.gov/pubmed/21625625) and were presented at the 2008 BMES Annual Fall Meeting in St. Louis as a contributed poster   \n",
    "\n",
    "#### 2009-2010 \n",
    "* Developed a visual correlation tool fo mining large scale molecular biological data \n",
    "* Implemented a graphical user interface using the Processing Java API \n",
    "* Presented work at the \"Rao Conference at the Interface Between Statistics and the Sciences\" in Hyderabad, India as a contributed poster ([link](https://drive.google.com/open?id=0B9HlZKYyVNmQc3BMMmtSNmVCazg&authuser=0)) \n",
    "* Developed into thesis for completion of Certificate in [Statistics and Scientific Computation](https://stat.utexas.edu/undergraduate/certificate-in-scientific-computation) ([report link](https://drive.google.com/open?id=0B9HlZKYyVNmQVTViTDd0RFpHNjA&authuser=0)) \n",
    "* Recieved NIH funding as an ARRA Administrative Supplement to Dr. Alter's RO1 grant"
   ]
  },
  {
   "cell_type": "code",
   "execution_count": null,
   "metadata": {
    "collapsed": true
   },
   "outputs": [],
   "source": []
  }
 ],
 "metadata": {
  "kernelspec": {
   "display_name": "Python 2",
   "language": "python",
   "name": "python2"
  },
  "language_info": {
   "codemirror_mode": {
    "name": "ipython",
    "version": 2
   },
   "file_extension": ".py",
   "mimetype": "text/x-python",
   "name": "python",
   "nbconvert_exporter": "python",
   "pygments_lexer": "ipython2",
   "version": "2.7.9"
  }
 },
 "nbformat": 4,
 "nbformat_minor": 0
}
